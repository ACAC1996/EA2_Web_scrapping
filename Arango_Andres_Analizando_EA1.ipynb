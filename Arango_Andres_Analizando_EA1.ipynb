{
  "nbformat": 4,
  "nbformat_minor": 0,
  "metadata": {
    "colab": {
      "provenance": []
    },
    "kernelspec": {
      "name": "python3",
      "display_name": "Python 3"
    },
    "language_info": {
      "name": "python"
    }
  },
  "cells": [
    {
      "cell_type": "markdown",
      "source": [
        "## **Evidencia de aprendizaje 1. Análisis y herramientas de extracción de datos**\n",
        "\n",
        "**Estudiante:** Andrés Camilo Arango Calle\n",
        "\n",
        "**Docente:** Diego León Zapata Ruiz\n",
        "\n",
        "**Curso:** Programación para Análisis de Datos\n",
        "\n",
        "**Grupo:** PREICA2402B020100\n",
        "\n",
        "**Programa:** Ingeniería de Software y Datos\n",
        "\n",
        "**Facultad:** Ingenierías y Ciencias Agropecuarias\n",
        "\n",
        "Institución Universitaria Digital de Antioquia\n",
        "\n",
        "2024"
      ],
      "metadata": {
        "id": "4uoch5Z8ewWZ"
      }
    },
    {
      "cell_type": "code",
      "execution_count": null,
      "metadata": {
        "id": "OHnY8bs8QACv"
      },
      "outputs": [],
      "source": [
        "\n",
        "# Instala la biblioteca BeautifulSoup para analizar HTML y XML.\n",
        "!pip install beautifulsoup4\n",
        "\n",
        "# Instala la biblioteca Selenium para automatizar navegadores web.\n",
        "!pip install selenium\n",
        "\n",
        "# Actualiza la lista de paquetes disponibles en el sistema.\n",
        "!apt-get update\n",
        "\n",
        "# Instala ChromeDriver para controlar el navegador Chromium con Selenium.\n",
        "!apt install chromium-chromedriver"
      ]
    },
    {
      "cell_type": "code",
      "source": [
        "# Importa las bibliotecas necesarias.\n",
        "from selenium import webdriver  # Para controlar el navegador web.\n",
        "from selenium.webdriver.common.by import By  # Para localizar elementos en la página.\n",
        "from bs4 import BeautifulSoup  # Para analizar el código HTML.\n",
        "import time  # Para pausar la ejecución del código.\n",
        "import requests  # Para hacer solicitudes HTTP.\n",
        "\n",
        "# Configura las opciones del navegador Chrome.\n",
        "options = webdriver.ChromeOptions()\n",
        "options.add_argument('--headless')  # Ejecuta Chrome en modo sin cabeza (sin interfaz gráfica).\n",
        "options.add_argument('--no-sandbox')  # Deshabilita el sandbox de seguridad (necesario en algunos entornos).\n",
        "options.add_argument('--disable-dev-shm-usage')  # Deshabilita el uso de la memoria compartida /dev/shm (necesario en algunos entornos).\n",
        "\n",
        "# Inicializa el controlador web de Chrome con las opciones especificadas.\n",
        "driver = webdriver.Chrome(options=options)"
      ],
      "metadata": {
        "id": "0bHUFqddQrJc"
      },
      "execution_count": 16,
      "outputs": []
    },
    {
      "cell_type": "markdown",
      "source": [
        "## **BeautifulSoup**"
      ],
      "metadata": {
        "id": "nmlxcdYZgy1p"
      }
    },
    {
      "cell_type": "code",
      "source": [
        "# Define la URL del producto que se quiere scrapear.\n",
        "url = 'https://articulo.mercadolibre.com.co/MCO-2582615272-camisetas-atletico-nacional-hombre-_JM#is_advertising=true&position=1&search_layout=grid&type=pad&tracking_id=44c38973-c8de-4717-ac8b-371eb4ab7d5d&is_advertising=true&ad_domain=VQCATCORE_LST&ad_position=1&ad_click_id=MDc1MDhjY2UtMWMwYi00YmQxLWE2ZDYtODQ2Y2FmMTJmMjI1'\n",
        "\n",
        "# Obtiene el contenido HTML de la página usando la biblioteca requests.\n",
        "response = requests.get(url)\n",
        "\n",
        "# Crea un objeto BeautifulSoup para analizar el HTML.\n",
        "soup = BeautifulSoup(response.content, 'html.parser')\n",
        "\n",
        "# Extrae el nombre del producto.\n",
        "nombre_producto = soup.find('h1', class_='ui-pdp-title').text.strip()\n",
        "\n",
        "# Extrae el precio del producto.\n",
        "precio = soup.find('span', class_='andes-money-amount__fraction').text.strip()\n",
        "\n",
        "# Extrae la información de disponibilidad del producto.\n",
        "disponibilidad = soup.find('div', class_='ui-pdp-buybox__quantity').text.strip()\n",
        "\n",
        "# Extrae la URL de la imagen del producto.\n",
        "imagen_url = soup.find('figure', class_='ui-pdp-gallery__figure').find('img')['src']\n",
        "\n",
        "# Imprime la información extraída.\n",
        "print(f'Nombre del producto: {nombre_producto}')\n",
        "print(f'Precio: {precio}')\n",
        "print(f'Disponibilidad: {disponibilidad}')\n",
        "print(f'URL de la imagen: {imagen_url}')"
      ],
      "metadata": {
        "colab": {
          "base_uri": "https://localhost:8080/"
        },
        "id": "05UEP1kERy8C",
        "outputId": "4e9e0b23-fba4-4496-9796-f1276ae0971f"
      },
      "execution_count": 17,
      "outputs": [
        {
          "output_type": "stream",
          "name": "stdout",
          "text": [
            "Nombre del producto: Camisetas Atl√©tico Nacional Hombre\n",
            "Precio: 75.000\n",
            "Disponibilidad: ¬°√öltima disponible!\n",
            "URL de la imagen: https://http2.mlstatic.com/D_NQ_NP_984029-MCO77813706724_072024-O.jpg\n"
          ]
        }
      ]
    },
    {
      "cell_type": "markdown",
      "source": [
        "## **Selenium**"
      ],
      "metadata": {
        "id": "9laREaOMgr12"
      }
    },
    {
      "cell_type": "code",
      "source": [
        "# URL del artículo en Mercado Libre\n",
        "url = \"https://articulo.mercadolibre.com.co/MCO-2582615272-camisetas-atletico-nacional-hombre-_JM#is_advertising=true&position=1&search_layout=grid&type=pad&tracking_id=5e267587-1c62-4b8e-9420-3a11c79d061a&is_advertising=true&ad_domain=VQCATCORE_LST&ad_position=1&ad_click_id=ZmQ0ZjdlM2EtMzJlYy00NzJhLTg4NTAtOTZiZTQ2MzgwYTM3\"\n",
        "\n",
        "# Abre la página del producto\n",
        "driver.get(url)\n"
      ],
      "metadata": {
        "id": "tFN_A4rAUfCr"
      },
      "execution_count": 18,
      "outputs": []
    },
    {
      "cell_type": "code",
      "source": [
        "# Extrae el título del producto utilizando el nombre de la clase CSS \"ui-pdp-title\".\n",
        "titulo = driver.find_element(By.CLASS_NAME, \"ui-pdp-title\").text\n",
        "\n",
        "# Extrae el precio del producto utilizando el nombre de la clase CSS \"andes-money-amount__fraction\".\n",
        "precio = driver.find_element(By.CLASS_NAME, \"andes-money-amount__fraction\").text\n",
        "\n",
        "# Extrae la descripción del producto utilizando el nombre de la clase CSS \"ui-pdp-description\".\n",
        "descripcion = driver.find_element(By.CLASS_NAME, \"ui-pdp-description\").text\n",
        "\n",
        "# Extrae la información de disponibilidad utilizando el nombre de la clase CSS \"ui-pdp-buybox__quantity\".\n",
        "disponibilidad = driver.find_element(By.CLASS_NAME, \"ui-pdp-buybox__quantity\").text\n",
        "\n",
        "# Extrae el subtítulo del producto utilizando el nombre de la clase CSS \"ui-pdp-header__subtitle\".\n",
        "subtitulo = driver.find_element(By.CLASS_NAME, \"ui-pdp-header__subtitle\").text\n",
        "\n",
        "# Muestra la información obtenida en la consola.\n",
        "print(f\"Producto: {titulo}\")\n",
        "print(f\"Precio: {precio}\")\n",
        "print(f\"Descripción: {descripcion}\")\n",
        "print(f\"Disponibilidad: {disponibilidad}\")\n",
        "print(f\"Subtítulo: {subtitulo}\")\n",
        "\n",
        "\n"
      ],
      "metadata": {
        "colab": {
          "base_uri": "https://localhost:8080/"
        },
        "id": "zJvM7z-SUt1e",
        "outputId": "1d8778c5-1313-4f09-d529-aa6e1d79796e"
      },
      "execution_count": 31,
      "outputs": [
        {
          "output_type": "stream",
          "name": "stdout",
          "text": [
            "Producto: Camisetas Atlético Nacional Hombre\n",
            "Precio: 75.000\n",
            "Descripción: Descripción\n",
            "Esta camiseta ha sido inspirada por las tendencias europeas de fútbol, y las clásicas rayas verticales. El escudo está cuidadosamente ubicado cerca del corazón¡ Dónde llevamos la pasión!\n",
            "Disponibilidad: ¡Última disponible!\n",
            "Subtítulo: Nuevo  |  +5 vendidos\n"
          ]
        }
      ]
    },
    {
      "cell_type": "markdown",
      "source": [
        "## **Scrapy**"
      ],
      "metadata": {
        "id": "dwq4VIL5gi_C"
      }
    },
    {
      "cell_type": "code",
      "source": [
        "# Instala la librería Scrapy.\n",
        "!pip install scrapy"
      ],
      "metadata": {
        "colab": {
          "base_uri": "https://localhost:8080/"
        },
        "id": "mBVSlRXUX48K",
        "outputId": "98fe41d9-deb2-4eab-9bbf-95d3aed7232c"
      },
      "execution_count": 33,
      "outputs": [
        {
          "output_type": "stream",
          "name": "stdout",
          "text": [
            "Collecting scrapy\n",
            "  Downloading Scrapy-2.11.2-py2.py3-none-any.whl.metadata (5.3 kB)\n",
            "Collecting Twisted>=18.9.0 (from scrapy)\n",
            "  Downloading twisted-24.10.0-py3-none-any.whl.metadata (20 kB)\n",
            "Requirement already satisfied: cryptography>=36.0.0 in /usr/local/lib/python3.10/dist-packages (from scrapy) (43.0.3)\n",
            "Collecting cssselect>=0.9.1 (from scrapy)\n",
            "  Downloading cssselect-1.2.0-py2.py3-none-any.whl.metadata (2.2 kB)\n",
            "Collecting itemloaders>=1.0.1 (from scrapy)\n",
            "  Downloading itemloaders-1.3.2-py3-none-any.whl.metadata (3.9 kB)\n",
            "Collecting parsel>=1.5.0 (from scrapy)\n",
            "  Downloading parsel-1.9.1-py2.py3-none-any.whl.metadata (11 kB)\n",
            "Requirement already satisfied: pyOpenSSL>=21.0.0 in /usr/local/lib/python3.10/dist-packages (from scrapy) (24.2.1)\n",
            "Collecting queuelib>=1.4.2 (from scrapy)\n",
            "  Downloading queuelib-1.7.0-py2.py3-none-any.whl.metadata (5.7 kB)\n",
            "Collecting service-identity>=18.1.0 (from scrapy)\n",
            "  Downloading service_identity-24.2.0-py3-none-any.whl.metadata (5.1 kB)\n",
            "Collecting w3lib>=1.17.0 (from scrapy)\n",
            "  Downloading w3lib-2.2.1-py3-none-any.whl.metadata (2.1 kB)\n",
            "Collecting zope.interface>=5.1.0 (from scrapy)\n",
            "  Downloading zope.interface-7.1.1-cp310-cp310-manylinux_2_5_x86_64.manylinux1_x86_64.manylinux_2_17_x86_64.manylinux2014_x86_64.whl.metadata (44 kB)\n",
            "\u001b[2K     \u001b[90m━━━━━━━━━━━━━━━━━━━━━━━━━━━━━━━━━━━━━━━━\u001b[0m \u001b[32m44.1/44.1 kB\u001b[0m \u001b[31m2.1 MB/s\u001b[0m eta \u001b[36m0:00:00\u001b[0m\n",
            "\u001b[?25hCollecting protego>=0.1.15 (from scrapy)\n",
            "  Downloading Protego-0.3.1-py2.py3-none-any.whl.metadata (5.9 kB)\n",
            "Collecting itemadapter>=0.1.0 (from scrapy)\n",
            "  Downloading itemadapter-0.9.0-py3-none-any.whl.metadata (17 kB)\n",
            "Requirement already satisfied: setuptools in /usr/local/lib/python3.10/dist-packages (from scrapy) (75.1.0)\n",
            "Requirement already satisfied: packaging in /usr/local/lib/python3.10/dist-packages (from scrapy) (24.1)\n",
            "Collecting tldextract (from scrapy)\n",
            "  Downloading tldextract-5.1.3-py3-none-any.whl.metadata (11 kB)\n",
            "Requirement already satisfied: lxml>=4.4.1 in /usr/local/lib/python3.10/dist-packages (from scrapy) (5.3.0)\n",
            "Requirement already satisfied: defusedxml>=0.7.1 in /usr/local/lib/python3.10/dist-packages (from scrapy) (0.7.1)\n",
            "Collecting PyDispatcher>=2.0.5 (from scrapy)\n",
            "  Downloading PyDispatcher-2.0.7-py3-none-any.whl.metadata (2.4 kB)\n",
            "Requirement already satisfied: cffi>=1.12 in /usr/local/lib/python3.10/dist-packages (from cryptography>=36.0.0->scrapy) (1.17.1)\n",
            "Collecting jmespath>=0.9.5 (from itemloaders>=1.0.1->scrapy)\n",
            "  Downloading jmespath-1.0.1-py3-none-any.whl.metadata (7.6 kB)\n",
            "Requirement already satisfied: attrs>=19.1.0 in /usr/local/lib/python3.10/dist-packages (from service-identity>=18.1.0->scrapy) (24.2.0)\n",
            "Requirement already satisfied: pyasn1 in /usr/local/lib/python3.10/dist-packages (from service-identity>=18.1.0->scrapy) (0.6.1)\n",
            "Requirement already satisfied: pyasn1-modules in /usr/local/lib/python3.10/dist-packages (from service-identity>=18.1.0->scrapy) (0.4.1)\n",
            "Collecting automat>=24.8.0 (from Twisted>=18.9.0->scrapy)\n",
            "  Downloading Automat-24.8.1-py3-none-any.whl.metadata (8.4 kB)\n",
            "Collecting constantly>=15.1 (from Twisted>=18.9.0->scrapy)\n",
            "  Downloading constantly-23.10.4-py3-none-any.whl.metadata (1.8 kB)\n",
            "Collecting hyperlink>=17.1.1 (from Twisted>=18.9.0->scrapy)\n",
            "  Downloading hyperlink-21.0.0-py2.py3-none-any.whl.metadata (1.5 kB)\n",
            "Collecting incremental>=24.7.0 (from Twisted>=18.9.0->scrapy)\n",
            "  Downloading incremental-24.7.2-py3-none-any.whl.metadata (8.1 kB)\n",
            "Requirement already satisfied: typing-extensions>=4.2.0 in /usr/local/lib/python3.10/dist-packages (from Twisted>=18.9.0->scrapy) (4.12.2)\n",
            "Requirement already satisfied: idna in /usr/local/lib/python3.10/dist-packages (from tldextract->scrapy) (3.10)\n",
            "Requirement already satisfied: requests>=2.1.0 in /usr/local/lib/python3.10/dist-packages (from tldextract->scrapy) (2.32.3)\n",
            "Collecting requests-file>=1.4 (from tldextract->scrapy)\n",
            "  Downloading requests_file-2.1.0-py2.py3-none-any.whl.metadata (1.7 kB)\n",
            "Requirement already satisfied: filelock>=3.0.8 in /usr/local/lib/python3.10/dist-packages (from tldextract->scrapy) (3.16.1)\n",
            "Requirement already satisfied: pycparser in /usr/local/lib/python3.10/dist-packages (from cffi>=1.12->cryptography>=36.0.0->scrapy) (2.22)\n",
            "Requirement already satisfied: tomli in /usr/local/lib/python3.10/dist-packages (from incremental>=24.7.0->Twisted>=18.9.0->scrapy) (2.0.2)\n",
            "Requirement already satisfied: charset-normalizer<4,>=2 in /usr/local/lib/python3.10/dist-packages (from requests>=2.1.0->tldextract->scrapy) (3.4.0)\n",
            "Requirement already satisfied: urllib3<3,>=1.21.1 in /usr/local/lib/python3.10/dist-packages (from requests>=2.1.0->tldextract->scrapy) (2.2.3)\n",
            "Requirement already satisfied: certifi>=2017.4.17 in /usr/local/lib/python3.10/dist-packages (from requests>=2.1.0->tldextract->scrapy) (2024.8.30)\n",
            "Downloading Scrapy-2.11.2-py2.py3-none-any.whl (290 kB)\n",
            "\u001b[2K   \u001b[90m━━━━━━━━━━━━━━━━━━━━━━━━━━━━━━━━━━━━━━━━\u001b[0m \u001b[32m290.1/290.1 kB\u001b[0m \u001b[31m8.5 MB/s\u001b[0m eta \u001b[36m0:00:00\u001b[0m\n",
            "\u001b[?25hDownloading cssselect-1.2.0-py2.py3-none-any.whl (18 kB)\n",
            "Downloading itemadapter-0.9.0-py3-none-any.whl (11 kB)\n",
            "Downloading itemloaders-1.3.2-py3-none-any.whl (12 kB)\n",
            "Downloading parsel-1.9.1-py2.py3-none-any.whl (17 kB)\n",
            "Downloading Protego-0.3.1-py2.py3-none-any.whl (8.5 kB)\n",
            "Downloading PyDispatcher-2.0.7-py3-none-any.whl (12 kB)\n",
            "Downloading queuelib-1.7.0-py2.py3-none-any.whl (13 kB)\n",
            "Downloading service_identity-24.2.0-py3-none-any.whl (11 kB)\n",
            "Downloading twisted-24.10.0-py3-none-any.whl (3.2 MB)\n",
            "\u001b[2K   \u001b[90m━━━━━━━━━━━━━━━━━━━━━━━━━━━━━━━━━━━━━━━━\u001b[0m \u001b[32m3.2/3.2 MB\u001b[0m \u001b[31m45.0 MB/s\u001b[0m eta \u001b[36m0:00:00\u001b[0m\n",
            "\u001b[?25hDownloading w3lib-2.2.1-py3-none-any.whl (21 kB)\n",
            "Downloading zope.interface-7.1.1-cp310-cp310-manylinux_2_5_x86_64.manylinux1_x86_64.manylinux_2_17_x86_64.manylinux2014_x86_64.whl (254 kB)\n",
            "\u001b[2K   \u001b[90m━━━━━━━━━━━━━━━━━━━━━━━━━━━━━━━━━━━━━━━━\u001b[0m \u001b[32m254.2/254.2 kB\u001b[0m \u001b[31m16.1 MB/s\u001b[0m eta \u001b[36m0:00:00\u001b[0m\n",
            "\u001b[?25hDownloading tldextract-5.1.3-py3-none-any.whl (104 kB)\n",
            "\u001b[2K   \u001b[90m━━━━━━━━━━━━━━━━━━━━━━━━━━━━━━━━━━━━━━━━\u001b[0m \u001b[32m104.9/104.9 kB\u001b[0m \u001b[31m6.3 MB/s\u001b[0m eta \u001b[36m0:00:00\u001b[0m\n",
            "\u001b[?25hDownloading Automat-24.8.1-py3-none-any.whl (42 kB)\n",
            "\u001b[2K   \u001b[90m━━━━━━━━━━━━━━━━━━━━━━━━━━━━━━━━━━━━━━━━\u001b[0m \u001b[32m42.6/42.6 kB\u001b[0m \u001b[31m2.6 MB/s\u001b[0m eta \u001b[36m0:00:00\u001b[0m\n",
            "\u001b[?25hDownloading constantly-23.10.4-py3-none-any.whl (13 kB)\n",
            "Downloading hyperlink-21.0.0-py2.py3-none-any.whl (74 kB)\n",
            "\u001b[2K   \u001b[90m━━━━━━━━━━━━━━━━━━━━━━━━━━━━━━━━━━━━━━━━\u001b[0m \u001b[32m74.6/74.6 kB\u001b[0m \u001b[31m5.0 MB/s\u001b[0m eta \u001b[36m0:00:00\u001b[0m\n",
            "\u001b[?25hDownloading incremental-24.7.2-py3-none-any.whl (20 kB)\n",
            "Downloading jmespath-1.0.1-py3-none-any.whl (20 kB)\n",
            "Downloading requests_file-2.1.0-py2.py3-none-any.whl (4.2 kB)\n",
            "Installing collected packages: PyDispatcher, zope.interface, w3lib, queuelib, protego, jmespath, itemadapter, incremental, hyperlink, cssselect, constantly, automat, Twisted, requests-file, parsel, tldextract, service-identity, itemloaders, scrapy\n",
            "Successfully installed PyDispatcher-2.0.7 Twisted-24.10.0 automat-24.8.1 constantly-23.10.4 cssselect-1.2.0 hyperlink-21.0.0 incremental-24.7.2 itemadapter-0.9.0 itemloaders-1.3.2 jmespath-1.0.1 parsel-1.9.1 protego-0.3.1 queuelib-1.7.0 requests-file-2.1.0 scrapy-2.11.2 service-identity-24.2.0 tldextract-5.1.3 w3lib-2.2.1 zope.interface-7.1.1\n"
          ]
        }
      ]
    },
    {
      "cell_type": "code",
      "source": [
        "# Crea un nuevo proyecto de Scrapy llamado \"mercadolibre\".\n",
        "!scrapy startproject mercadolibre"
      ],
      "metadata": {
        "colab": {
          "base_uri": "https://localhost:8080/"
        },
        "id": "br8CllJRYz-M",
        "outputId": "94c814cf-7005-4ef1-a953-b15205c9aef1"
      },
      "execution_count": 37,
      "outputs": [
        {
          "output_type": "stream",
          "name": "stdout",
          "text": [
            "New Scrapy project 'mercadolibre', using template directory '/usr/local/lib/python3.10/dist-packages/scrapy/templates/project', created in:\n",
            "    /content/mercadolibre\n",
            "\n",
            "You can start your first spider with:\n",
            "    cd mercadolibre\n",
            "    scrapy genspider example example.com\n"
          ]
        }
      ]
    },
    {
      "cell_type": "code",
      "source": [
        "import scrapy  # Importa la librería Scrapy.\n",
        "\n",
        "# Define la clase MercadolibreItem que hereda de scrapy.Item.\n",
        "class MercadolibreItem(scrapy.Item):\n",
        "    # Define los campos para almacenar la información extraída.\n",
        "    nombre = scrapy.Field()  # Campo para el nombre del producto.\n",
        "    precio = scrapy.Field()  # Campo para el precio del producto.\n",
        "    vendedor = scrapy.Field()  # Campo para el nombre del vendedor.\n",
        "    url = scrapy.Field()  # Campo para la URL del producto."
      ],
      "metadata": {
        "id": "LVxn_NtlY6dO"
      },
      "execution_count": 38,
      "outputs": []
    },
    {
      "cell_type": "code",
      "source": [
        "# Navega al directorio \"mercadolibre\" y ejecuta la araña \"articulo\" para extraer datos y guardarlos en \"datos2.csv\".\n",
        "!cd mercadolibre && scrapy crawl articulo -o datos2.csv"
      ],
      "metadata": {
        "colab": {
          "base_uri": "https://localhost:8080/"
        },
        "id": "5rC_dmqBZz-y",
        "outputId": "01550435-b3d5-4335-efd1-05409133c92d"
      },
      "execution_count": 53,
      "outputs": [
        {
          "output_type": "stream",
          "name": "stdout",
          "text": [
            "2024-11-06 07:56:44 [scrapy.utils.log] INFO: Scrapy 2.11.2 started (bot: mercadolibre)\n",
            "2024-11-06 07:56:44 [scrapy.utils.log] INFO: Versions: lxml 5.3.0.0, libxml2 2.12.9, cssselect 1.2.0, parsel 1.9.1, w3lib 2.2.1, Twisted 24.10.0, Python 3.10.12 (main, Sep 11 2024, 15:47:36) [GCC 11.4.0], pyOpenSSL 24.2.1 (OpenSSL 3.3.2 3 Sep 2024), cryptography 43.0.3, Platform Linux-6.1.85+-x86_64-with-glibc2.35\n",
            "2024-11-06 07:56:44 [scrapy.addons] INFO: Enabled addons:\n",
            "[]\n",
            "2024-11-06 07:56:44 [asyncio] DEBUG: Using selector: EpollSelector\n",
            "2024-11-06 07:56:44 [scrapy.utils.log] DEBUG: Using reactor: twisted.internet.asyncioreactor.AsyncioSelectorReactor\n",
            "2024-11-06 07:56:44 [scrapy.utils.log] DEBUG: Using asyncio event loop: asyncio.unix_events._UnixSelectorEventLoop\n",
            "2024-11-06 07:56:44 [scrapy.extensions.telnet] INFO: Telnet Password: 638481aa3b7fc3a9\n",
            "2024-11-06 07:56:44 [scrapy.middleware] INFO: Enabled extensions:\n",
            "['scrapy.extensions.corestats.CoreStats',\n",
            " 'scrapy.extensions.telnet.TelnetConsole',\n",
            " 'scrapy.extensions.memusage.MemoryUsage',\n",
            " 'scrapy.extensions.feedexport.FeedExporter',\n",
            " 'scrapy.extensions.logstats.LogStats']\n",
            "2024-11-06 07:56:44 [scrapy.crawler] INFO: Overridden settings:\n",
            "{'BOT_NAME': 'mercadolibre',\n",
            " 'FEED_EXPORT_ENCODING': 'utf-8',\n",
            " 'NEWSPIDER_MODULE': 'mercadolibre.spiders',\n",
            " 'REQUEST_FINGERPRINTER_IMPLEMENTATION': '2.7',\n",
            " 'ROBOTSTXT_OBEY': True,\n",
            " 'SPIDER_MODULES': ['mercadolibre.spiders'],\n",
            " 'TWISTED_REACTOR': 'twisted.internet.asyncioreactor.AsyncioSelectorReactor',\n",
            " 'USER_AGENT': 'Mozilla/5.0 (Windows NT 10.0; Win64; x64) AppleWebKit/537.36 '\n",
            "               '(KHTML, like Gecko) Chrome/58.0.3029.110 Safari/537.3'}\n",
            "2024-11-06 07:56:45 [scrapy.middleware] INFO: Enabled downloader middlewares:\n",
            "['scrapy.downloadermiddlewares.offsite.OffsiteMiddleware',\n",
            " 'scrapy.downloadermiddlewares.robotstxt.RobotsTxtMiddleware',\n",
            " 'scrapy.downloadermiddlewares.httpproxy.HttpProxyMiddleware',\n",
            " 'scrapy.downloadermiddlewares.httpauth.HttpAuthMiddleware',\n",
            " 'scrapy.downloadermiddlewares.downloadtimeout.DownloadTimeoutMiddleware',\n",
            " 'scrapy.downloadermiddlewares.defaultheaders.DefaultHeadersMiddleware',\n",
            " 'scrapy.downloadermiddlewares.useragent.UserAgentMiddleware',\n",
            " 'scrapy.downloadermiddlewares.retry.RetryMiddleware',\n",
            " 'scrapy.downloadermiddlewares.redirect.MetaRefreshMiddleware',\n",
            " 'scrapy.downloadermiddlewares.httpcompression.HttpCompressionMiddleware',\n",
            " 'scrapy.downloadermiddlewares.redirect.RedirectMiddleware',\n",
            " 'scrapy.downloadermiddlewares.cookies.CookiesMiddleware',\n",
            " 'scrapy.downloadermiddlewares.stats.DownloaderStats']\n",
            "2024-11-06 07:56:45 [scrapy.middleware] INFO: Enabled spider middlewares:\n",
            "['scrapy.spidermiddlewares.httperror.HttpErrorMiddleware',\n",
            " 'scrapy.spidermiddlewares.referer.RefererMiddleware',\n",
            " 'scrapy.spidermiddlewares.urllength.UrlLengthMiddleware',\n",
            " 'scrapy.spidermiddlewares.depth.DepthMiddleware']\n",
            "2024-11-06 07:56:45 [scrapy.middleware] INFO: Enabled item pipelines:\n",
            "[]\n",
            "2024-11-06 07:56:45 [scrapy.core.engine] INFO: Spider opened\n",
            "2024-11-06 07:56:45 [scrapy.extensions.logstats] INFO: Crawled 0 pages (at 0 pages/min), scraped 0 items (at 0 items/min)\n",
            "2024-11-06 07:56:45 [scrapy.extensions.telnet] INFO: Telnet console listening on 127.0.0.1:6023\n",
            "2024-11-06 07:56:45 [urllib3.connectionpool] DEBUG: Starting new HTTPS connection (1): publicsuffix.org:443\n",
            "2024-11-06 07:56:45 [urllib3.connectionpool] DEBUG: https://publicsuffix.org:443 \"GET /list/public_suffix_list.dat HTTP/11\" 200 86429\n",
            "2024-11-06 07:56:45 [scrapy.core.engine] DEBUG: Crawled (200) <GET https://articulo.mercadolibre.com.co/robots.txt> (referer: None)\n",
            "2024-11-06 07:56:45 [scrapy.core.engine] DEBUG: Crawled (200) <GET https://articulo.mercadolibre.com.co/MCO-2582615272-camisetas-atletico-nacional-hombre-_JM#is_advertising=true&position=1&search_layout=grid&type=pad&tracking_id=5e267587-1c62-4b8e-9420-3a11c79d061a&is_advertising=true&ad_domain=VQCATCORE_LST&ad_position=1&ad_click_id=ZmQ0ZjdlM2EtMzJlYy00NzJhLTg4NTAtOTZiZTQ2MzgwYTM3> (referer: None)\n",
            "2024-11-06 07:56:46 [scrapy.core.scraper] ERROR: Spider error processing <GET https://articulo.mercadolibre.com.co/MCO-2582615272-camisetas-atletico-nacional-hombre-_JM#is_advertising=true&position=1&search_layout=grid&type=pad&tracking_id=5e267587-1c62-4b8e-9420-3a11c79d061a&is_advertising=true&ad_domain=VQCATCORE_LST&ad_position=1&ad_click_id=ZmQ0ZjdlM2EtMzJlYy00NzJhLTg4NTAtOTZiZTQ2MzgwYTM3> (referer: None)\n",
            "Traceback (most recent call last):\n",
            "  File \"/usr/local/lib/python3.10/dist-packages/scrapy/utils/defer.py\", line 279, in iter_errback\n",
            "    yield next(it)\n",
            "  File \"/usr/local/lib/python3.10/dist-packages/scrapy/utils/python.py\", line 350, in __next__\n",
            "    return next(self.data)\n",
            "  File \"/usr/local/lib/python3.10/dist-packages/scrapy/utils/python.py\", line 350, in __next__\n",
            "    return next(self.data)\n",
            "  File \"/usr/local/lib/python3.10/dist-packages/scrapy/core/spidermw.py\", line 106, in process_sync\n",
            "    for r in iterable:\n",
            "  File \"/usr/local/lib/python3.10/dist-packages/scrapy/spidermiddlewares/referer.py\", line 352, in <genexpr>\n",
            "    return (self._set_referer(r, response) for r in result or ())\n",
            "  File \"/usr/local/lib/python3.10/dist-packages/scrapy/core/spidermw.py\", line 106, in process_sync\n",
            "    for r in iterable:\n",
            "  File \"/usr/local/lib/python3.10/dist-packages/scrapy/spidermiddlewares/urllength.py\", line 27, in <genexpr>\n",
            "    return (r for r in result or () if self._filter(r, spider))\n",
            "  File \"/usr/local/lib/python3.10/dist-packages/scrapy/core/spidermw.py\", line 106, in process_sync\n",
            "    for r in iterable:\n",
            "  File \"/usr/local/lib/python3.10/dist-packages/scrapy/spidermiddlewares/depth.py\", line 31, in <genexpr>\n",
            "    return (r for r in result or () if self._filter(r, response, spider))\n",
            "  File \"/usr/local/lib/python3.10/dist-packages/scrapy/core/spidermw.py\", line 106, in process_sync\n",
            "    for r in iterable:\n",
            "  File \"/content/mercadolibre/mercadolibre/spiders/articulo_spider.py\", line 13, in parse\n",
            "    item['nombre'] = response.css('h1::text').get()\n",
            "  File \"/usr/local/lib/python3.10/dist-packages/scrapy/item.py\", line 85, in __setitem__\n",
            "    raise KeyError(f\"{self.__class__.__name__} does not support field: {key}\")\n",
            "KeyError: 'MercadolibreItem does not support field: nombre'\n",
            "2024-11-06 07:56:46 [scrapy.core.engine] INFO: Closing spider (finished)\n",
            "2024-11-06 07:56:46 [scrapy.extensions.feedexport] INFO: Stored csv feed (0 items) in: datos2.csv\n",
            "2024-11-06 07:56:46 [scrapy.statscollectors] INFO: Dumping Scrapy stats:\n",
            "{'downloader/request_bytes': 733,\n",
            " 'downloader/request_count': 2,\n",
            " 'downloader/request_method_count/GET': 2,\n",
            " 'downloader/response_bytes': 70097,\n",
            " 'downloader/response_count': 2,\n",
            " 'downloader/response_status_count/200': 2,\n",
            " 'elapsed_time_seconds': 0.81828,\n",
            " 'feedexport/success_count/FileFeedStorage': 1,\n",
            " 'finish_reason': 'finished',\n",
            " 'finish_time': datetime.datetime(2024, 11, 6, 7, 56, 46, 15384, tzinfo=datetime.timezone.utc),\n",
            " 'httpcompression/response_bytes': 251847,\n",
            " 'httpcompression/response_count': 2,\n",
            " 'log_count/DEBUG': 7,\n",
            " 'log_count/ERROR': 1,\n",
            " 'log_count/INFO': 11,\n",
            " 'memusage/max': 167813120,\n",
            " 'memusage/startup': 167813120,\n",
            " 'response_received_count': 2,\n",
            " 'robotstxt/request_count': 1,\n",
            " 'robotstxt/response_count': 1,\n",
            " 'robotstxt/response_status_count/200': 1,\n",
            " 'scheduler/dequeued': 1,\n",
            " 'scheduler/dequeued/memory': 1,\n",
            " 'scheduler/enqueued': 1,\n",
            " 'scheduler/enqueued/memory': 1,\n",
            " 'spider_exceptions/KeyError': 1,\n",
            " 'start_time': datetime.datetime(2024, 11, 6, 7, 56, 45, 197104, tzinfo=datetime.timezone.utc)}\n",
            "2024-11-06 07:56:46 [scrapy.core.engine] INFO: Spider closed (finished)\n"
          ]
        }
      ]
    }
  ]
}